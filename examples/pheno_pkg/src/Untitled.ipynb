{
 "cells": [
  {
   "cell_type": "code",
   "execution_count": 9,
   "id": "80c3dc92",
   "metadata": {},
   "outputs": [
    {
     "data": {
      "text/plain": [
       "'\\\\\\\\..'"
      ]
     },
     "execution_count": 9,
     "metadata": {},
     "output_type": "execute_result"
    }
   ],
   "source": [
    "f\"\\\\\\..\""
   ]
  },
  {
   "cell_type": "code",
   "execution_count": 10,
   "id": "2244d98d",
   "metadata": {},
   "outputs": [
    {
     "data": {
      "text/plain": [
       "'source(\"..\\\\\\\\..\\\\\\\\src\\\\\"\"r\"'"
      ]
     },
     "execution_count": 10,
     "metadata": {},
     "output_type": "execute_result"
    }
   ],
   "source": [
    "'source(\"..\\\\\\..\\\\\\src\\\\\\\"'+'\"r\"'"
   ]
  },
  {
   "cell_type": "code",
   "execution_count": null,
   "id": "6aeea2b3",
   "metadata": {},
   "outputs": [],
   "source": []
  }
 ],
 "metadata": {
  "kernelspec": {
   "display_name": "Python 3",
   "language": "python",
   "name": "python3"
  },
  "language_info": {
   "codemirror_mode": {
    "name": "ipython",
    "version": 3
   },
   "file_extension": ".py",
   "mimetype": "text/x-python",
   "name": "python",
   "nbconvert_exporter": "python",
   "pygments_lexer": "ipython3",
   "version": "3.7.12"
  }
 },
 "nbformat": 4,
 "nbformat_minor": 5
}
